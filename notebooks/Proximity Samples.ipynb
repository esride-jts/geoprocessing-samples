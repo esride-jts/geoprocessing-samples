{
 "cells": [
  {
   "cell_type": "code",
   "execution_count": null,
   "id": "9522ac44",
   "metadata": {},
   "outputs": [],
   "source": [
    "import arcpy\n",
    "import arcgis\n",
    "import pandas as pd\n",
    "import os"
   ]
  },
  {
   "cell_type": "code",
   "execution_count": null,
   "id": "fb63517d",
   "metadata": {},
   "outputs": [],
   "source": [
    "workspace_folder = r\"C:\\data\\Geonames\"\n",
    "geonames_file_path = os.path.join(workspace_folder, \"cities500.csv\")"
   ]
  },
  {
   "cell_type": "code",
   "execution_count": null,
   "id": "cbc28e3d",
   "metadata": {},
   "outputs": [],
   "source": [
    "geonames_column_names = [\n",
    "    \"geonameid\",\n",
    "    \"name\",\n",
    "    \"ascii_name\",\n",
    "    \"alternate_names\",\n",
    "    \"latitude\",\n",
    "    \"longitude\",\n",
    "    \"feature_class\",\n",
    "    \"feature_code\",\n",
    "    \"country_code\",\n",
    "    \"cc2\",\n",
    "    \"admin1_code\",\n",
    "    \"admin2_code\",\n",
    "    \"admin3_code\",\n",
    "    \"admin4_code\",\n",
    "    \"population\",\n",
    "    \"elevation\",\n",
    "    \"dem\",\n",
    "    \"timezone\",\n",
    "    \"modification_date\"\n",
    "]\n",
    "geonames_dtypes_dict = {\n",
    "    0: int, # geonameid\n",
    "    1: str,  # name\n",
    "    2: str,  # asciiname\n",
    "    3: str,  # alternatenames\n",
    "    4: float, # latitude\n",
    "    5: float, # longitude\n",
    "    6: str, # feature class\n",
    "    7: str, # feature code\n",
    "    8: str, # country code\n",
    "    9: str, # cc2\n",
    "    10: str, # admin1 code\n",
    "    11: str, # admin2 code\n",
    "    12: str, # admin3 code\n",
    "    13: str, # admin4 code\n",
    "    14: int, # population\n",
    "    15: float, # elevation\n",
    "    16: int, # dem (digital elevation model)\n",
    "    17: str, # timezone\n",
    "    18: str # modification date yyyy-MM-dd\n",
    "}"
   ]
  },
  {
   "cell_type": "code",
   "execution_count": null,
   "id": "ada1acc0",
   "metadata": {},
   "outputs": [],
   "source": [
    "cities500_df = pd.read_csv(geonames_file_path, sep='\\t', header=None, names=geonames_column_names, dtype=geonames_dtypes_dict)\n",
    "cities500_df"
   ]
  },
  {
   "cell_type": "code",
   "execution_count": null,
   "id": "abe75279",
   "metadata": {},
   "outputs": [],
   "source": [
    "max_rows = 100"
   ]
  },
  {
   "cell_type": "code",
   "execution_count": null,
   "id": "5d7971c4",
   "metadata": {},
   "outputs": [],
   "source": [
    "cities500_sdf = arcgis.features.GeoAccessor.from_xy(cities500_df[:max_rows], x_column='longitude', y_column='latitude')\n",
    "cities500_sdf"
   ]
  },
  {
   "cell_type": "code",
   "execution_count": null,
   "id": "8d089c9a",
   "metadata": {},
   "outputs": [],
   "source": [
    "cities500_fc = cities500_sdf.spatial.to_featureclass(\"in_memory/cities500\")\n",
    "cities500_fc"
   ]
  },
  {
   "cell_type": "code",
   "execution_count": null,
   "id": "7daca05b",
   "metadata": {},
   "outputs": [],
   "source": [
    "gp_result = arcpy.analysis.Buffer(cities500_fc, \"in_memory/buffers\", \"45 kilometers\", method=\"GEODESIC\")\n",
    "gp_result"
   ]
  },
  {
   "cell_type": "code",
   "execution_count": null,
   "id": "67f46828",
   "metadata": {},
   "outputs": [],
   "source": [
    "if 4 != gp_result.status:\n",
    "    raise Exception(\"GP Tool failed!\")\n",
    "    \n",
    "buffers_fc = gp_result[0]\n",
    "buffers_sdf = arcgis.features.GeoAccessor.from_featureclass(buffers_fc)\n",
    "buffers_sdf"
   ]
  },
  {
   "cell_type": "code",
   "execution_count": null,
   "id": "686da0a6",
   "metadata": {},
   "outputs": [],
   "source": [
    "columns = [\"name\", \"SHAPE\"]"
   ]
  },
  {
   "cell_type": "code",
   "execution_count": null,
   "id": "9d9b96c3",
   "metadata": {},
   "outputs": [],
   "source": [
    "gis = arcgis.gis.GIS(\"pro\")\n",
    "focus_map = gis.map(\"Europe\")\n",
    "buffers_sdf[columns].spatial.plot(focus_map)\n",
    "focus_map"
   ]
  },
  {
   "cell_type": "code",
   "execution_count": null,
   "id": "600eed19",
   "metadata": {},
   "outputs": [],
   "source": []
  }
 ],
 "metadata": {
  "kernelspec": {
   "display_name": "Python 3 (ipykernel)",
   "language": "python",
   "name": "python3"
  },
  "language_info": {
   "codemirror_mode": {
    "name": "ipython",
    "version": 3
   },
   "file_extension": ".py",
   "mimetype": "text/x-python",
   "name": "python",
   "nbconvert_exporter": "python",
   "pygments_lexer": "ipython3",
   "version": "3.9.16"
  }
 },
 "nbformat": 4,
 "nbformat_minor": 5
}
