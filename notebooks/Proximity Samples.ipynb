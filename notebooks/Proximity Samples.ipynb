{
 "cells": [
  {
   "cell_type": "code",
   "execution_count": null,
   "id": "9522ac44",
   "metadata": {},
   "outputs": [],
   "source": [
    "import arcpy\n",
    "import arcgis\n",
    "import numpy as np\n",
    "import os\n",
    "import pandas as pd"
   ]
  },
  {
   "cell_type": "code",
   "execution_count": null,
   "id": "fb63517d",
   "metadata": {},
   "outputs": [],
   "source": [
    "workspace_folder = r\"C:\\data\\Geonames\"\n",
    "geonames_file_path = os.path.join(workspace_folder, \"cities500.csv\")"
   ]
  },
  {
   "cell_type": "code",
   "execution_count": null,
   "id": "cbc28e3d",
   "metadata": {},
   "outputs": [],
   "source": [
    "geonames_column_names = [\n",
    "    \"geonameid\",\n",
    "    \"name\",\n",
    "    \"ascii_name\",\n",
    "    \"alternate_names\",\n",
    "    \"latitude\",\n",
    "    \"longitude\",\n",
    "    \"feature_class\",\n",
    "    \"feature_code\",\n",
    "    \"country_code\",\n",
    "    \"cc2\",\n",
    "    \"admin1_code\",\n",
    "    \"admin2_code\",\n",
    "    \"admin3_code\",\n",
    "    \"admin4_code\",\n",
    "    \"population\",\n",
    "    \"elevation\",\n",
    "    \"dem\",\n",
    "    \"timezone\",\n",
    "    \"modification_date\"\n",
    "]\n",
    "geonames_dtypes_dict = {\n",
    "    0: int, # geonameid\n",
    "    1: str,  # name\n",
    "    2: str,  # asciiname\n",
    "    3: str,  # alternatenames\n",
    "    4: float, # latitude\n",
    "    5: float, # longitude\n",
    "    6: str, # feature class\n",
    "    7: str, # feature code\n",
    "    8: str, # country code\n",
    "    9: str, # cc2\n",
    "    10: str, # admin1 code\n",
    "    11: str, # admin2 code\n",
    "    12: str, # admin3 code\n",
    "    13: str, # admin4 code\n",
    "    14: int, # population\n",
    "    15: float, # elevation\n",
    "    16: int, # dem (digital elevation model)\n",
    "    17: str, # timezone\n",
    "    18: str # modification date yyyy-MM-dd\n",
    "}"
   ]
  },
  {
   "cell_type": "code",
   "execution_count": null,
   "id": "ada1acc0",
   "metadata": {},
   "outputs": [],
   "source": [
    "cities500_df = pd.read_csv(geonames_file_path, sep='\\t', header=None, names=geonames_column_names, dtype=geonames_dtypes_dict)\n",
    "cities500_df"
   ]
  },
  {
   "cell_type": "code",
   "execution_count": null,
   "id": "c1d596d4",
   "metadata": {},
   "outputs": [],
   "source": [
    "def buffer_from_xy(df, x_column, y_column, out_fclass, distance_linear_unit):\n",
    "    \"\"\"\n",
    "    Creates a geodesic buffer using a Pandas dataframe representing x,y locations.\n",
    "    Returns an in-memory feature class.\n",
    "    \"\"\"\n",
    "    arcpy.env.overwriteOutput = True\n",
    "    spatial_df = arcgis.features.GeoAccessor.from_xy(df, x_column=x_column, y_column=y_column)\n",
    "    input_fc = spatial_df.spatial.to_featureclass(\"in_memory/input_features\")\n",
    "    gp_result = arcpy.analysis.Buffer(input_fc, out_fclass, distance_linear_unit, method=\"GEODESIC\")\n",
    "    print(gp_result.getMessages())\n",
    "    if 4 != gp_result.status:\n",
    "        raise Exception(\"GP Tool failed!\")\n",
    "    \n",
    "    buffers_fc = gp_result[0]\n",
    "    return buffers_fc"
   ]
  },
  {
   "cell_type": "code",
   "execution_count": null,
   "id": "62da3208",
   "metadata": {},
   "outputs": [],
   "source": [
    "def buffer_from_xy_array(df, x_column, y_column, out_fclass, distance_linear_unit):\n",
    "    \"\"\"\n",
    "    Creates a geodesic buffer using a Pandas dataframe representing x,y locations.\n",
    "    Returns an in-memory feature class.\n",
    "    \"\"\"\n",
    "    arcpy.env.overwriteOutput = True\n",
    "    \n",
    "    out_workspace = os.path.dirname(out_fclass)\n",
    "    out_fclass_name = os.path.basename(out_fclass)\n",
    "    out_sr = arcpy.SpatialReference(4326)\n",
    "    gp_result = arcpy.management.CreateFeatureclass(out_workspace, out_fclass_name, geometry_type=\"POINT\", spatial_reference=out_sr)\n",
    "    print(gp_result.getMessages())\n",
    "    if 4 != gp_result.status:\n",
    "        raise Exception(\"Create Feature Class Tool failed!\")\n",
    "        \n",
    "    fields = []\n",
    "    field_names = []\n",
    "    x_column_index = -1\n",
    "    y_column_index = -1\n",
    "    for column_name, dtype in df.dtypes.iteritems():\n",
    "        if 'int32' == dtype:\n",
    "            fields.append([column_name, \"LONG\"])\n",
    "        elif 'float64' == dtype:\n",
    "            fields.append([column_name, \"DOUBLE\"])\n",
    "        else:\n",
    "            fields.append([column_name, \"TEXT\"])\n",
    "        field_names.append(column_name)\n",
    "        if x_column == column_name:\n",
    "            x_column_index = len(field_names) - 1\n",
    "        if y_column == column_name:\n",
    "            y_column_index = len(field_names) - 1\n",
    "        \n",
    "    if -1 == x_column_index:\n",
    "        raise Exception(\"X column not found!\")\n",
    "        \n",
    "    if -1 == y_column_index:\n",
    "        raise Exception(\"Y column not found!\")\n",
    "        \n",
    "    gp_result = arcpy.management.AddFields(out_fclass, fields)\n",
    "    print(gp_result.getMessages())\n",
    "    if 4 != gp_result.status:\n",
    "        raise Exception(\"Add Fields Class Tool failed!\")\n",
    "    \n",
    "    field_names.append(\"SHAPE@XY\")\n",
    "    numpy_tuples = df.to_records(index=False)\n",
    "    with arcpy.da.InsertCursor(out_fclass, field_names) as insert_cursor:\n",
    "        for row in numpy_tuples:\n",
    "            feature = (*row, (row[x_column_index], row[y_column_index]))\n",
    "            insert_cursor.insertRow(feature)\n",
    "    \n",
    "    return out_fclass"
   ]
  },
  {
   "cell_type": "code",
   "execution_count": null,
   "id": "5d7971c4",
   "metadata": {},
   "outputs": [],
   "source": [
    "buffers_fc = buffer_from_xy(cities500_df, \"longitude\", \"latitude\", \"in_memory/buffers\", \"45 kilometers\")\n",
    "buffers_fc"
   ]
  },
  {
   "cell_type": "code",
   "execution_count": null,
   "id": "acb8a3e7",
   "metadata": {},
   "outputs": [],
   "source": [
    "buffers_fc = buffer_from_xy_array(cities500_df, \"longitude\", \"latitude\", \"in_memory/buffers\", \"45 kilometers\")\n",
    "buffers_fc"
   ]
  },
  {
   "cell_type": "code",
   "execution_count": null,
   "id": "67f46828",
   "metadata": {},
   "outputs": [],
   "source": [
    "buffers_sdf = arcgis.features.GeoAccessor.from_featureclass(buffers_fc)\n",
    "buffers_sdf"
   ]
  },
  {
   "cell_type": "code",
   "execution_count": null,
   "id": "686da0a6",
   "metadata": {},
   "outputs": [],
   "source": [
    "columns = [\"name\", \"SHAPE\"]"
   ]
  },
  {
   "cell_type": "code",
   "execution_count": null,
   "id": "9d9b96c3",
   "metadata": {},
   "outputs": [],
   "source": [
    "gis = arcgis.gis.GIS(\"pro\")\n",
    "focus_map = gis.map(\"Europe\")\n",
    "buffers_sdf[columns].spatial.plot(focus_map)\n",
    "focus_map"
   ]
  },
  {
   "cell_type": "code",
   "execution_count": null,
   "id": "600eed19",
   "metadata": {},
   "outputs": [],
   "source": []
  }
 ],
 "metadata": {
  "kernelspec": {
   "display_name": "Python 3 (ipykernel)",
   "language": "python",
   "name": "python3"
  },
  "language_info": {
   "codemirror_mode": {
    "name": "ipython",
    "version": 3
   },
   "file_extension": ".py",
   "mimetype": "text/x-python",
   "name": "python",
   "nbconvert_exporter": "python",
   "pygments_lexer": "ipython3",
   "version": "3.9.16"
  }
 },
 "nbformat": 4,
 "nbformat_minor": 5
}
